{
 "cells": [
  {
   "cell_type": "code",
   "execution_count": null,
   "id": "3e56a980",
   "metadata": {
    "vscode": {
     "languageId": "plaintext"
    }
   },
   "outputs": [],
   "source": [
    "from airflow import DAG\n",
    "from airflow.operators.python import PythonOperator\n",
    "from datetime import datetime, timedelta\n",
    "\n",
    "def gerar_documento():\n",
    "    return {'compras': 100, 'artefatos': 100}\n",
    "\n",
    "def somar_parametros(**context):\n",
    "    documento = context['ti'].xcom_pull(task_ids='gerar_doc')\n",
    "    soma = documento['compras'] + documento['artefatos']\n",
    "    print(soma)\n",
    "\n",
    "with DAG(\n",
    "    'lucas_nogueira_wf',\n",
    "    default_args={'retries': 2},\n",
    "    start_date=datetime(2024, 1, 1),\n",
    "    schedule_interval=None,\n",
    "    catchup=False\n",
    ") as dag:\n",
    "\n",
    "    tarefa_gerar_documento = PythonOperator(\n",
    "        task_id='gerar_doc',\n",
    "        python_callable=gerar_documento\n",
    "    )\n",
    "\n",
    "    tarefa_somar_parametros = PythonOperator(\n",
    "        task_id='somar_params',\n",
    "        python_callable=somar_parametros\n",
    "    )\n",
    "\n",
    "    tarefa_gerar_documento >> tarefa_somar_parametros"
   ]
  }
 ],
 "metadata": {
  "language_info": {
   "name": "python"
  }
 },
 "nbformat": 4,
 "nbformat_minor": 5
}
